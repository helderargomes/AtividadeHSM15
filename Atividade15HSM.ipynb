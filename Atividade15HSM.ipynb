{
  "nbformat": 4,
  "nbformat_minor": 0,
  "metadata": {
    "colab": {
      "name": "Atividade15HSM.ipynb",
      "provenance": [],
      "collapsed_sections": []
    },
    "kernelspec": {
      "name": "python3",
      "display_name": "Python 3"
    },
    "language_info": {
      "name": "python"
    }
  },
  "cells": [
    {
      "cell_type": "code",
      "execution_count": 32,
      "metadata": {
        "id": "bVufRQsbgi0F"
      },
      "outputs": [],
      "source": [
        "# Importando as bibliotecas NumPy e Pandas\n",
        "import numpy as np\n",
        "import pandas as pd"
      ]
    },
    {
      "cell_type": "code",
      "source": [
        "# Importando a base de dados de infrações de trânsito no mês de julho de 2020\n",
        "db = pd.read_csv('julho.csv', sep=';')"
      ],
      "metadata": {
        "id": "LHGS_ej5htuw"
      },
      "execution_count": 33,
      "outputs": []
    },
    {
      "cell_type": "code",
      "source": [
        "# Verificando o cabeçalho do arquivo\n",
        "db.head()"
      ],
      "metadata": {
        "id": "3UrTqrEri7N-"
      },
      "execution_count": null,
      "outputs": []
    },
    {
      "cell_type": "code",
      "source": [
        "# Avaliando o tamanho do arquivo\n",
        "db.shape"
      ],
      "metadata": {
        "id": "eXYU_OvKjMT8"
      },
      "execution_count": null,
      "outputs": []
    },
    {
      "cell_type": "code",
      "source": [
        "# Avaliando os tipos de dados do dataframe\n",
        "db.dtypes"
      ],
      "metadata": {
        "id": "XpHKJ03bjTTh"
      },
      "execution_count": null,
      "outputs": []
    },
    {
      "cell_type": "code",
      "source": [
        "# Ao avaliar os tipos de dados, já se nota uma necessidade: alterar o tipo de dado da coluna \"cometimento\" de object (string) para data\n",
        "db[\"cometimento\"] = pd.to_datetime(db[\"cometimento\"])"
      ],
      "metadata": {
        "id": "4Q9G6jnmjhIe"
      },
      "execution_count": 40,
      "outputs": []
    },
    {
      "cell_type": "code",
      "source": [
        "# Verificando se a transformação de tipos de dados ocorreu\n",
        "db.dtypes"
      ],
      "metadata": {
        "id": "k_VuZtjwkFs0"
      },
      "execution_count": null,
      "outputs": []
    },
    {
      "cell_type": "code",
      "source": [
        "# Uma vez que uma das questões do problema é obter o número de infrações diárias, já vou criar uma coluna para separar o dia. Foi necessário pedir para filtrar pelo mês, em função do formato da data.\n",
        "db[\"dia_cometimento\"] = (db[\"cometimento\"].dt.month)"
      ],
      "metadata": {
        "id": "41H59O5lkYtP"
      },
      "execution_count": 41,
      "outputs": []
    },
    {
      "cell_type": "code",
      "source": [
        "# Verificando se a coluna foi criada\n",
        "db.dtypes"
      ],
      "metadata": {
        "id": "nA-2mHyWkzSu"
      },
      "execution_count": null,
      "outputs": []
    },
    {
      "cell_type": "code",
      "source": [
        "db.tail(20)"
      ],
      "metadata": {
        "id": "pScp1Vphcnnw"
      },
      "execution_count": null,
      "outputs": []
    },
    {
      "cell_type": "code",
      "source": [
        "# Verificando a existência de valores nulos\n",
        "db.isnull().sum()\n",
        "#Verifica-se que há dados faltantes em algumas colunas, principalmente nos dados do local de cometimento da infração."
      ],
      "metadata": {
        "id": "RyBcA3Kak_KM"
      },
      "execution_count": null,
      "outputs": []
    },
    {
      "cell_type": "code",
      "source": [
        "# Avaliando a quantidade de infrações de cada tipo\n",
        "db.groupby(\"grav_tipo\")[\"tipo_infracao\"].count()"
      ],
      "metadata": {
        "id": "n59u7kgGm8sC"
      },
      "execution_count": null,
      "outputs": []
    },
    {
      "cell_type": "code",
      "source": [
        "# Avaliando o número de infrações diárias\n",
        "db.groupby(\"dia_cometimento\")[\"tipo_infracao\"].count()"
      ],
      "metadata": {
        "id": "-zazbMEUnb_W"
      },
      "execution_count": null,
      "outputs": []
    }
  ]
}